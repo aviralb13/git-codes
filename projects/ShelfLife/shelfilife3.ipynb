{
 "cells": [
  {
   "cell_type": "code",
   "execution_count": 1,
   "metadata": {},
   "outputs": [],
   "source": [
    "import pandas as pd\n",
    "import matplotlib.pyplot as plt\n",
    "import numpy as np"
   ]
  },
  {
   "cell_type": "code",
   "execution_count": 2,
   "metadata": {},
   "outputs": [
    {
     "data": {
      "text/html": [
       "<div>\n",
       "<style scoped>\n",
       "    .dataframe tbody tr th:only-of-type {\n",
       "        vertical-align: middle;\n",
       "    }\n",
       "\n",
       "    .dataframe tbody tr th {\n",
       "        vertical-align: top;\n",
       "    }\n",
       "\n",
       "    .dataframe thead th {\n",
       "        text-align: right;\n",
       "    }\n",
       "</style>\n",
       "<table border=\"1\" class=\"dataframe\">\n",
       "  <thead>\n",
       "    <tr style=\"text-align: right;\">\n",
       "      <th></th>\n",
       "      <th>Temperature</th>\n",
       "      <th>Moisture</th>\n",
       "      <th>RelativeHumidity</th>\n",
       "      <th>Absolute</th>\n",
       "      <th>Viability</th>\n",
       "      <th>Co2</th>\n",
       "      <th>O2</th>\n",
       "      <th>Fungal</th>\n",
       "    </tr>\n",
       "  </thead>\n",
       "  <tbody>\n",
       "    <tr>\n",
       "      <th>0</th>\n",
       "      <td>15</td>\n",
       "      <td>9.0</td>\n",
       "      <td>27</td>\n",
       "      <td>3.6</td>\n",
       "      <td>90.8</td>\n",
       "      <td>1.0</td>\n",
       "      <td>7.500</td>\n",
       "      <td>98</td>\n",
       "    </tr>\n",
       "    <tr>\n",
       "      <th>1</th>\n",
       "      <td>15</td>\n",
       "      <td>11.3</td>\n",
       "      <td>41</td>\n",
       "      <td>5.3</td>\n",
       "      <td>93.2</td>\n",
       "      <td>1.0</td>\n",
       "      <td>8.550</td>\n",
       "      <td>96</td>\n",
       "    </tr>\n",
       "    <tr>\n",
       "      <th>2</th>\n",
       "      <td>15</td>\n",
       "      <td>11.6</td>\n",
       "      <td>48</td>\n",
       "      <td>6.1</td>\n",
       "      <td>78.4</td>\n",
       "      <td>1.0</td>\n",
       "      <td>7.250</td>\n",
       "      <td>92</td>\n",
       "    </tr>\n",
       "    <tr>\n",
       "      <th>3</th>\n",
       "      <td>15</td>\n",
       "      <td>13.3</td>\n",
       "      <td>60</td>\n",
       "      <td>7.7</td>\n",
       "      <td>89.2</td>\n",
       "      <td>1.5</td>\n",
       "      <td>8.400</td>\n",
       "      <td>22</td>\n",
       "    </tr>\n",
       "    <tr>\n",
       "      <th>4</th>\n",
       "      <td>25</td>\n",
       "      <td>9.0</td>\n",
       "      <td>28</td>\n",
       "      <td>6.5</td>\n",
       "      <td>90.4</td>\n",
       "      <td>2.0</td>\n",
       "      <td>6.325</td>\n",
       "      <td>92</td>\n",
       "    </tr>\n",
       "  </tbody>\n",
       "</table>\n",
       "</div>"
      ],
      "text/plain": [
       "   Temperature  Moisture  RelativeHumidity  Absolute  Viability  Co2     O2  \\\n",
       "0           15       9.0                27       3.6       90.8  1.0  7.500   \n",
       "1           15      11.3                41       5.3       93.2  1.0  8.550   \n",
       "2           15      11.6                48       6.1       78.4  1.0  7.250   \n",
       "3           15      13.3                60       7.7       89.2  1.5  8.400   \n",
       "4           25       9.0                28       6.5       90.4  2.0  6.325   \n",
       "\n",
       "   Fungal  \n",
       "0      98  \n",
       "1      96  \n",
       "2      92  \n",
       "3      22  \n",
       "4      92  "
      ]
     },
     "execution_count": 2,
     "metadata": {},
     "output_type": "execute_result"
    }
   ],
   "source": [
    "data = pd.read_csv(r\"/Users/apple/Documents/programming/datas/shelflife3.csv\")\n",
    "data.head()"
   ]
  },
  {
   "cell_type": "code",
   "execution_count": 3,
   "metadata": {},
   "outputs": [],
   "source": [
    "x = data.iloc[: , 0:7].values\n",
    "y = data.iloc[: , -1].values "
   ]
  },
  {
   "cell_type": "code",
   "execution_count": 12,
   "metadata": {},
   "outputs": [],
   "source": [
    "temp = data.iloc[: , 0].values \n",
    "moisture = data.iloc[: ,1].values\n",
    "humidity = data.iloc[: ,2].values\n",
    "absolute = data.iloc[: ,3].values\n",
    "visualisation = data.iloc[: ,4].values\n",
    "c02 = data.iloc[: ,5].values\n",
    "oxygen = data.iloc[: ,6].values\n",
    "Fungal = data.iloc[: ,7].values"
   ]
  },
  {
   "cell_type": "code",
   "execution_count": 4,
   "metadata": {},
   "outputs": [
    {
     "data": {
      "text/plain": [
       "'from sklearn.model_selection import train_test_split\\n\\ntrain_x, test_x, train_y, test_y = train_test_split(x,y)'"
      ]
     },
     "execution_count": 4,
     "metadata": {},
     "output_type": "execute_result"
    }
   ],
   "source": [
    "'''from sklearn.model_selection import train_test_split\n",
    "\n",
    "train_x, test_x, train_y, test_y = train_test_split(x,y)'''"
   ]
  },
  {
   "cell_type": "code",
   "execution_count": 5,
   "metadata": {},
   "outputs": [
    {
     "data": {
      "text/plain": [
       "RandomForestRegressor(n_estimators=4, random_state=0)"
      ]
     },
     "execution_count": 5,
     "metadata": {},
     "output_type": "execute_result"
    }
   ],
   "source": [
    "from sklearn.ensemble import RandomForestRegressor\n",
    "regressor_model = RandomForestRegressor(n_estimators = 4, random_state = 0)\n",
    "#regressor_model.fit(train_x,train_y)\n",
    "regressor_model.fit(x,y)"
   ]
  },
  {
   "cell_type": "code",
   "execution_count": 6,
   "metadata": {},
   "outputs": [
    {
     "data": {
      "text/plain": [
       "array([96.5])"
      ]
     },
     "execution_count": 6,
     "metadata": {},
     "output_type": "execute_result"
    }
   ],
   "source": [
    "regressor_model.predict([[15,9,27,3.6,90.8,1,7.5]])"
   ]
  },
  {
   "cell_type": "code",
   "execution_count": 7,
   "metadata": {},
   "outputs": [],
   "source": [
    "#predictions = regressor_model.predict(test_x)"
   ]
  },
  {
   "cell_type": "code",
   "execution_count": 10,
   "metadata": {},
   "outputs": [
    {
     "data": {
      "text/plain": [
       "Text(0, 0.5, 'moisture')"
      ]
     },
     "execution_count": 10,
     "metadata": {},
     "output_type": "execute_result"
    },
    {
     "data": {
      "image/png": "[encoded data removed]",
      "text/plain": [
       "<Figure size 432x288 with 1 Axes>"
      ]
     },
     "metadata": {
      "needs_background": "light"
     },
     "output_type": "display_data"
    }
   ],
   "source": [
    "plt.scatter(temp,moisture)\n",
    "plt.xlabel(\"temperature\")\n",
    "plt.ylabel(\"moisture\")"
   ]
  },
  {
   "cell_type": "code",
   "execution_count": 15,
   "metadata": {},
   "outputs": [
    {
     "data": {
      "text/plain": [
       "Text(0, 0.5, 'Fungal')"
      ]
     },
     "execution_count": 15,
     "metadata": {},
     "output_type": "execute_result"
    },
    {
     "data": {
      "image/png": "[encoded data removed]",
      "text/plain": [
       "<Figure size 432x288 with 1 Axes>"
      ]
     },
     "metadata": {
      "needs_background": "light"
     },
     "output_type": "display_data"
    }
   ],
   "source": [
    "plt.scatter(temp,Fungal)\n",
    "plt.xlabel(\"temperature\")\n",
    "plt.ylabel(\"Fungal\")"
   ]
  },
  {
   "cell_type": "code",
   "execution_count": 13,
   "metadata": {},
   "outputs": [
    {
     "data": {
      "text/plain": [
       "Text(0, 0.5, 'Fungal')"
      ]
     },
     "execution_count": 13,
     "metadata": {},
     "output_type": "execute_result"
    },
    {
     "data": {
      "image/png": "[encoded data removed]",
      "text/plain": [
       "<Figure size 432x288 with 1 Axes>"
      ]
     },
     "metadata": {
      "needs_background": "light"
     },
     "output_type": "display_data"
    }
   ],
   "source": [
    "plt.scatter(moisture,Fungal)\n",
    "plt.xlabel(\"moisture\")\n",
    "plt.ylabel(\"Fungal\")"
   ]
  },
  {
   "cell_type": "code",
   "execution_count": 16,
   "metadata": {},
   "outputs": [
    {
     "data": {
      "text/plain": [
       "Text(0.5, 0, 'temp')"
      ]
     },
     "execution_count": 16,
     "metadata": {},
     "output_type": "execute_result"
    },
    {
     "data": {
      "image/png": "[encoded data removed]",
      "text/plain": [
       "<Figure size 432x288 with 1 Axes>"
      ]
     },
     "metadata": {
      "needs_background": "light"
     },
     "output_type": "display_data"
    }
   ],
   "source": [
    "plt.hexbin(temp,moisture,Fungal)\n",
    "plt.ylabel(\"moisture\")\n",
    "plt.xlabel(\"temp\")"
   ]
  },
  {
   "cell_type": "code",
   "execution_count": 17,
   "metadata": {},
   "outputs": [
    {
     "data": {
      "text/plain": [
       "Text(0.5, 0, 'oxygen')"
      ]
     },
     "execution_count": 17,
     "metadata": {},
     "output_type": "execute_result"
    },
    {
     "data": {
      "image/png": "[encoded data removed]",
      "text/plain": [
       "<Figure size 432x288 with 1 Axes>"
      ]
     },
     "metadata": {
      "needs_background": "light"
     },
     "output_type": "display_data"
    }
   ],
   "source": [
    "plt.hexbin(oxygen,c02,Fungal)\n",
    "plt.ylabel(\"c02\")\n",
    "plt.xlabel(\"oxygen\")"
   ]
  },
  {
   "cell_type": "code",
   "execution_count": 8,
   "metadata": {},
   "outputs": [
    {
     "data": {
      "text/plain": [
       "\"from sklearn import metrics\\n\\nprint('Mean Absolute Error:', metrics.mean_absolute_error(test_y, predictions))\\nprint('Mean Squared Error:', metrics.mean_squared_error(test_y, predictions))\\nprint('Root Mean Squared Error:', np.sqrt(metrics.mean_squared_error(test_y, predictions)))\""
      ]
     },
     "execution_count": 8,
     "metadata": {},
     "output_type": "execute_result"
    }
   ],
   "source": [
    "'''from sklearn import metrics\n",
    "\n",
    "print('Mean Absolute Error:', metrics.mean_absolute_error(test_y, predictions))\n",
    "print('Mean Squared Error:', metrics.mean_squared_error(test_y, predictions))\n",
    "print('Root Mean Squared Error:', np.sqrt(metrics.mean_squared_error(test_y, predictions)))'''"
   ]
  }
 ],
 "metadata": {
  "interpreter": {
   "hash": "aee8b7b246df8f9039afb4144a1f6fd8d2ca17a180786b69acc140d282b71a49"
  },
  "kernelspec": {
   "display_name": "Python 3.9.6 64-bit",
   "language": "python",
   "name": "python3"
  },
  "language_info": {
   "codemirror_mode": {
    "name": "ipython",
    "version": 3
   },
   "file_extension": ".py",
   "mimetype": "text/x-python",
   "name": "python",
   "nbconvert_exporter": "python",
   "pygments_lexer": "ipython3",
   "version": "3.9.6"
  },
  "orig_nbformat": 4
 },
 "nbformat": 4,
 "nbformat_minor": 2
}
