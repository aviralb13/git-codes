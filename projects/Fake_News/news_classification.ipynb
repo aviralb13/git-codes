{
 "cells": [
  {
   "cell_type": "code",
   "execution_count": 2,
   "metadata": {},
   "outputs": [],
   "source": [
    "import pandas as pd\n",
    "import numpy as np"
   ]
  },
  {
   "cell_type": "code",
   "execution_count": 3,
   "metadata": {},
   "outputs": [
    {
     "data": {
      "text/html": [
       "<div>\n",
       "<style scoped>\n",
       "    .dataframe tbody tr th:only-of-type {\n",
       "        vertical-align: middle;\n",
       "    }\n",
       "\n",
       "    .dataframe tbody tr th {\n",
       "        vertical-align: top;\n",
       "    }\n",
       "\n",
       "    .dataframe thead th {\n",
       "        text-align: right;\n",
       "    }\n",
       "</style>\n",
       "<table border=\"1\" class=\"dataframe\">\n",
       "  <thead>\n",
       "    <tr style=\"text-align: right;\">\n",
       "      <th></th>\n",
       "      <th>Unnamed: 0</th>\n",
       "      <th>title</th>\n",
       "      <th>text</th>\n",
       "      <th>label</th>\n",
       "    </tr>\n",
       "  </thead>\n",
       "  <tbody>\n",
       "    <tr>\n",
       "      <th>0</th>\n",
       "      <td>0</td>\n",
       "      <td>LAW ENFORCEMENT ON HIGH ALERT Following Threat...</td>\n",
       "      <td>No comment is expected from Barack Obama Membe...</td>\n",
       "      <td>1</td>\n",
       "    </tr>\n",
       "    <tr>\n",
       "      <th>1</th>\n",
       "      <td>1</td>\n",
       "      <td>NaN</td>\n",
       "      <td>Did they post their votes for Hillary already?</td>\n",
       "      <td>1</td>\n",
       "    </tr>\n",
       "    <tr>\n",
       "      <th>2</th>\n",
       "      <td>2</td>\n",
       "      <td>UNBELIEVABLE! OBAMA’S ATTORNEY GENERAL SAYS MO...</td>\n",
       "      <td>Now, most of the demonstrators gathered last ...</td>\n",
       "      <td>1</td>\n",
       "    </tr>\n",
       "    <tr>\n",
       "      <th>3</th>\n",
       "      <td>3</td>\n",
       "      <td>Bobby Jindal, raised Hindu, uses story of Chri...</td>\n",
       "      <td>A dozen politically active pastors came here f...</td>\n",
       "      <td>0</td>\n",
       "    </tr>\n",
       "    <tr>\n",
       "      <th>4</th>\n",
       "      <td>4</td>\n",
       "      <td>SATAN 2: Russia unvelis an image of its terrif...</td>\n",
       "      <td>The RS-28 Sarmat missile, dubbed Satan 2, will...</td>\n",
       "      <td>1</td>\n",
       "    </tr>\n",
       "  </tbody>\n",
       "</table>\n",
       "</div>"
      ],
      "text/plain": [
       "   Unnamed: 0                                              title  \\\n",
       "0           0  LAW ENFORCEMENT ON HIGH ALERT Following Threat...   \n",
       "1           1                                                NaN   \n",
       "2           2  UNBELIEVABLE! OBAMA’S ATTORNEY GENERAL SAYS MO...   \n",
       "3           3  Bobby Jindal, raised Hindu, uses story of Chri...   \n",
       "4           4  SATAN 2: Russia unvelis an image of its terrif...   \n",
       "\n",
       "                                                text  label  \n",
       "0  No comment is expected from Barack Obama Membe...      1  \n",
       "1     Did they post their votes for Hillary already?      1  \n",
       "2   Now, most of the demonstrators gathered last ...      1  \n",
       "3  A dozen politically active pastors came here f...      0  \n",
       "4  The RS-28 Sarmat missile, dubbed Satan 2, will...      1  "
      ]
     },
     "execution_count": 3,
     "metadata": {},
     "output_type": "execute_result"
    }
   ],
   "source": [
    "data = pd.read_csv(r'/Users/aviral/Documents/programming/datas/fakenews.csv')\n",
    "data.head()"
   ]
  },
  {
   "cell_type": "code",
   "execution_count": 4,
   "metadata": {},
   "outputs": [],
   "source": [
    "import string\n",
    "from nltk.corpus import stopwords\n",
    "from nltk.stem   import WordNetLemmatizer\n",
    "from nltk.tokenize import word_tokenize\n",
    "\n",
    "def clean_text(text):\n",
    "    text =''.join([i for i in text if i not in string.punctuation and i not in string.digits])\n",
    "    tokens = word_tokenize(text, 'english')\n",
    "    lemmatiser = WordNetLemmatizer()\n",
    "    lemmatized = [lemmatiser.lemmatize(word) for word in tokens]\n",
    "    sw = stopwords.words('english')\n",
    "    stopped = [word for word in lemmatized if word.lower() not in sw]\n",
    "    return stopped"
   ]
  },
  {
   "cell_type": "code",
   "execution_count": 5,
   "metadata": {},
   "outputs": [],
   "source": [
    "x = data['title']\n",
    "y = data['label']"
   ]
  },
  {
   "cell_type": "code",
   "execution_count": 6,
   "metadata": {},
   "outputs": [],
   "source": [
    "from sklearn.model_selection import train_test_split\n",
    "\n",
    "train_x,test_x,train_y,test_y = train_test_split(x,y,random_state=1,train_size=0.7)"
   ]
  },
  {
   "cell_type": "code",
   "execution_count": 7,
   "metadata": {},
   "outputs": [],
   "source": [
    "from sklearn.feature_extraction.text import CountVectorizer\n",
    "from tensorflow.keras.preprocessing.text import Tokenizer\n",
    "from tensorflow.keras.preprocessing.sequence import pad_sequences\n",
    "\n",
    "train_x = train_x.fillna('')\n",
    "test_x = test_x.fillna('')\n",
    "\n",
    "bow_transformer = CountVectorizer(analyzer=clean_text).fit(train_x)\n",
    "\n",
    "text_bow_train = bow_transformer.transform(train_x)\n",
    "text_bow_test = bow_transformer.transform(test_x)"
   ]
  },
  {
   "cell_type": "code",
   "execution_count": 8,
   "metadata": {},
   "outputs": [
    {
     "name": "stdout",
     "output_type": "stream",
     "text": [
      "  (0, 19198)\t1\n",
      "  (0, 21776)\t1\n",
      "  (0, 27434)\t1\n",
      "  (0, 27833)\t1\n",
      "  (0, 28936)\t1\n",
      "  (0, 30264)\t1\n",
      "  (0, 31911)\t1\n",
      "  (0, 43715)\t1\n",
      "  (0, 43716)\t1\n",
      "  (1, 4435)\t1\n",
      "  (1, 7016)\t1\n",
      "  (1, 7572)\t1\n",
      "  (1, 10051)\t1\n",
      "  (1, 10284)\t1\n",
      "  (1, 16494)\t1\n",
      "  (1, 17208)\t1\n",
      "  (1, 19070)\t2\n",
      "  (1, 20294)\t1\n",
      "  (1, 23432)\t1\n",
      "  (1, 24021)\t1\n",
      "  (1, 24583)\t1\n",
      "  (1, 25841)\t2\n",
      "  (1, 30331)\t1\n",
      "  (1, 31472)\t1\n",
      "  (2, 1245)\t1\n",
      "  :\t:\n",
      "  (50489, 43717)\t1\n",
      "  (50489, 43718)\t3\n",
      "  (50489, 43721)\t1\n",
      "  (50490, 3023)\t1\n",
      "  (50490, 3351)\t1\n",
      "  (50490, 7802)\t1\n",
      "  (50490, 13409)\t1\n",
      "  (50490, 14296)\t1\n",
      "  (50490, 19717)\t1\n",
      "  (50490, 28636)\t1\n",
      "  (50490, 30810)\t1\n",
      "  (50490, 43716)\t1\n",
      "  (50491, 3023)\t2\n",
      "  (50491, 7772)\t1\n",
      "  (50491, 31127)\t1\n",
      "  (50491, 31130)\t1\n",
      "  (50492, 2200)\t1\n",
      "  (50492, 11636)\t1\n",
      "  (50492, 18960)\t1\n",
      "  (50492, 22391)\t1\n",
      "  (50492, 23784)\t1\n",
      "  (50492, 25022)\t1\n",
      "  (50492, 29122)\t1\n",
      "  (50492, 29381)\t1\n",
      "  (50492, 30617)\t1\n"
     ]
    }
   ],
   "source": [
    "print(text_bow_train)"
   ]
  },
  {
   "cell_type": "code",
   "execution_count": 9,
   "metadata": {},
   "outputs": [],
   "source": [
    "from sklearn.metrics import confusion_matrix\n",
    "from sklearn.metrics import accuracy_score\n",
    "import matplotlib.pyplot as plt\n",
    "import seaborn as sns"
   ]
  },
  {
   "cell_type": "markdown",
   "metadata": {},
   "source": [
    "Random Forest"
   ]
  },
  {
   "cell_type": "code",
   "execution_count": 10,
   "metadata": {},
   "outputs": [
    {
     "data": {
      "text/plain": [
       "RandomForestClassifier(n_estimators=30)"
      ]
     },
     "execution_count": 10,
     "metadata": {},
     "output_type": "execute_result"
    }
   ],
   "source": [
    "from sklearn.ensemble import RandomForestClassifier\n",
    "from sklearn.model_selection import cross_validate\n",
    "\n",
    "random_forest_model = RandomForestClassifier(n_estimators=30)\n",
    "random_forest_model.fit(text_bow_train, train_y)"
   ]
  },
  {
   "cell_type": "code",
   "execution_count": 11,
   "metadata": {},
   "outputs": [],
   "source": [
    "random_forest_prediction = random_forest_model.predict(text_bow_test)"
   ]
  },
  {
   "cell_type": "code",
   "execution_count": 12,
   "metadata": {},
   "outputs": [
    {
     "data": {
      "image/png": "[encoded data removed]",
      "text/plain": [
       "<Figure size 432x288 with 2 Axes>"
      ]
     },
     "metadata": {
      "needs_background": "light"
     },
     "output_type": "display_data"
    }
   ],
   "source": [
    "cf_random = confusion_matrix(test_y, random_forest_prediction)\n",
    "cf_random = sns.heatmap(cf_random/np.sum(cf_random), annot=True, fmt='.2%')\n",
    "\n",
    "cf_random.set_title('Random Forest')\n",
    "cf_random.set_xlabel('\\nPredicted Values')\n",
    "cf_random.set_ylabel('Actual Values ')\n",
    "\n",
    "cf_random.xaxis.set_ticklabels(['False','True'])\n",
    "cf_random.yaxis.set_ticklabels(['False','True'])\n",
    "\n",
    "plt.show()\n"
   ]
  },
  {
   "cell_type": "code",
   "execution_count": 13,
   "metadata": {},
   "outputs": [
    {
     "data": {
      "text/plain": [
       "0.9380804953560371"
      ]
     },
     "execution_count": 13,
     "metadata": {},
     "output_type": "execute_result"
    }
   ],
   "source": [
    "accuracy_score(test_y, random_forest_prediction) "
   ]
  },
  {
   "cell_type": "markdown",
   "metadata": {},
   "source": [
    "Naive Bayes"
   ]
  },
  {
   "cell_type": "code",
   "execution_count": 14,
   "metadata": {},
   "outputs": [
    {
     "data": {
      "text/plain": [
       "MultinomialNB()"
      ]
     },
     "execution_count": 14,
     "metadata": {},
     "output_type": "execute_result"
    }
   ],
   "source": [
    "from sklearn.naive_bayes import MultinomialNB\n",
    "\n",
    "NB_model = MultinomialNB()\n",
    "NB_model.fit(text_bow_train, train_y)"
   ]
  },
  {
   "cell_type": "code",
   "execution_count": 15,
   "metadata": {},
   "outputs": [],
   "source": [
    "NB_prediction = NB_model.predict(text_bow_test)"
   ]
  },
  {
   "cell_type": "code",
   "execution_count": 16,
   "metadata": {},
   "outputs": [
    {
     "data": {
      "image/png": "[encoded data removed]",
      "text/plain": [
       "<Figure size 432x288 with 2 Axes>"
      ]
     },
     "metadata": {
      "needs_background": "light"
     },
     "output_type": "display_data"
    }
   ],
   "source": [
    "cf_NB = confusion_matrix(test_y, NB_prediction)\n",
    "cf_NB = sns.heatmap(cf_NB/np.sum(cf_NB), annot=True, fmt='.2%')\n",
    "\n",
    "cf_NB.set_title('Naive Bayes');\n",
    "cf_NB.set_xlabel('\\nPredicted Values')\n",
    "cf_NB.set_ylabel('Actual Values ');\n",
    "\n",
    "cf_NB.xaxis.set_ticklabels(['False','True'])\n",
    "cf_NB.yaxis.set_ticklabels(['False','True'])\n",
    "\n",
    "plt.show()"
   ]
  },
  {
   "cell_type": "code",
   "execution_count": 17,
   "metadata": {},
   "outputs": [
    {
     "data": {
      "text/plain": [
       "0.9166397116584262"
      ]
     },
     "execution_count": 17,
     "metadata": {},
     "output_type": "execute_result"
    }
   ],
   "source": [
    "accuracy_score(test_y, NB_prediction) "
   ]
  },
  {
   "cell_type": "markdown",
   "metadata": {},
   "source": [
    "SVM"
   ]
  },
  {
   "cell_type": "code",
   "execution_count": 18,
   "metadata": {},
   "outputs": [
    {
     "data": {
      "text/plain": [
       "SVC()"
      ]
     },
     "execution_count": 18,
     "metadata": {},
     "output_type": "execute_result"
    }
   ],
   "source": [
    "from sklearn.svm import SVC\n",
    "\n",
    "SVM_model = SVC()\n",
    "SVM_model.fit(text_bow_train, train_y)"
   ]
  },
  {
   "cell_type": "code",
   "execution_count": 19,
   "metadata": {},
   "outputs": [],
   "source": [
    "SVM_prediction = SVM_model.predict(text_bow_test)"
   ]
  },
  {
   "cell_type": "code",
   "execution_count": 20,
   "metadata": {},
   "outputs": [
    {
     "data": {
      "image/png": "[encoded data removed]",
      "text/plain": [
       "<Figure size 432x288 with 2 Axes>"
      ]
     },
     "metadata": {
      "needs_background": "light"
     },
     "output_type": "display_data"
    }
   ],
   "source": [
    "cf_SVM = confusion_matrix(test_y, SVM_prediction)\n",
    "cf_SVM = sns.heatmap(cf_SVM/np.sum(cf_SVM), annot=True, fmt='.2%')\n",
    "\n",
    "cf_SVM.set_title('SVM');\n",
    "cf_SVM.set_xlabel('\\nPredicted Values')\n",
    "cf_SVM.set_ylabel('Actual Values ');\n",
    "\n",
    "cf_SVM.xaxis.set_ticklabels(['False','True'])\n",
    "cf_SVM.yaxis.set_ticklabels(['False','True'])\n",
    "\n",
    "plt.show()"
   ]
  },
  {
   "cell_type": "code",
   "execution_count": 21,
   "metadata": {},
   "outputs": [
    {
     "data": {
      "text/plain": [
       "0.9451504089459821"
      ]
     },
     "execution_count": 21,
     "metadata": {},
     "output_type": "execute_result"
    }
   ],
   "source": [
    "accuracy_score(test_y, SVM_prediction) "
   ]
  },
  {
   "cell_type": "markdown",
   "metadata": {},
   "source": [
    "Decision Tree"
   ]
  },
  {
   "cell_type": "code",
   "execution_count": 22,
   "metadata": {},
   "outputs": [
    {
     "data": {
      "text/plain": [
       "DecisionTreeClassifier()"
      ]
     },
     "execution_count": 22,
     "metadata": {},
     "output_type": "execute_result"
    }
   ],
   "source": [
    "from sklearn.tree import DecisionTreeClassifier\n",
    "\n",
    "tree_model = DecisionTreeClassifier()\n",
    "tree_model.fit(text_bow_train,train_y)"
   ]
  },
  {
   "cell_type": "code",
   "execution_count": 23,
   "metadata": {},
   "outputs": [],
   "source": [
    "tree_prediction = tree_model.predict(text_bow_test)"
   ]
  },
  {
   "cell_type": "code",
   "execution_count": 24,
   "metadata": {},
   "outputs": [
    {
     "data": {
      "image/png": "[encoded data removed]",
      "text/plain": [
       "<Figure size 432x288 with 2 Axes>"
      ]
     },
     "metadata": {
      "needs_background": "light"
     },
     "output_type": "display_data"
    }
   ],
   "source": [
    "cf_tree = confusion_matrix(test_y, tree_prediction)\n",
    "cf_tree = sns.heatmap(cf_tree/np.sum(cf_tree), annot=True, fmt='.2%')\n",
    "\n",
    "cf_tree.set_title('Decision Tree');\n",
    "cf_tree.set_xlabel('\\nPredicted Values')\n",
    "cf_tree.set_ylabel('Actual Values ');\n",
    "\n",
    "cf_tree.xaxis.set_ticklabels(['False','True'])\n",
    "cf_tree.yaxis.set_ticklabels(['False','True'])\n",
    "\n",
    "plt.show()"
   ]
  },
  {
   "cell_type": "code",
   "execution_count": 25,
   "metadata": {},
   "outputs": [
    {
     "data": {
      "text/plain": [
       "0.9220461161683841"
      ]
     },
     "execution_count": 25,
     "metadata": {},
     "output_type": "execute_result"
    }
   ],
   "source": [
    "accuracy_score(test_y, tree_prediction) "
   ]
  },
  {
   "cell_type": "markdown",
   "metadata": {},
   "source": [
    "XGBoost"
   ]
  },
  {
   "cell_type": "code",
   "execution_count": 26,
   "metadata": {},
   "outputs": [
    {
     "data": {
      "text/plain": [
       "XGBClassifier(base_score=0.5, booster='gbtree', callbacks=None,\n",
       "              colsample_bylevel=1, colsample_bynode=1, colsample_bytree=1,\n",
       "              early_stopping_rounds=None, enable_categorical=False,\n",
       "              eval_metric=None, gamma=0, gpu_id=-1, grow_policy='depthwise',\n",
       "              importance_type=None, interaction_constraints='',\n",
       "              learning_rate=0.300000012, max_bin=256, max_cat_to_onehot=4,\n",
       "              max_delta_step=0, max_depth=6, max_leaves=0, min_child_weight=1,\n",
       "              missing=nan, monotone_constraints='()', n_estimators=100,\n",
       "              n_jobs=0, num_parallel_tree=1, predictor='auto', random_state=0,\n",
       "              reg_alpha=0, reg_lambda=1, ...)"
      ]
     },
     "execution_count": 26,
     "metadata": {},
     "output_type": "execute_result"
    }
   ],
   "source": [
    "from xgboost import XGBClassifier\n",
    "\n",
    "XG_model = XGBClassifier()\n",
    "XG_model.fit(text_bow_train, train_y)"
   ]
  },
  {
   "cell_type": "code",
   "execution_count": 27,
   "metadata": {},
   "outputs": [],
   "source": [
    "XG_prediction = XG_model.predict(text_bow_test)"
   ]
  },
  {
   "cell_type": "code",
   "execution_count": 28,
   "metadata": {},
   "outputs": [
    {
     "data": {
      "image/png": "[encoded data removed]",
      "text/plain": [
       "<Figure size 432x288 with 2 Axes>"
      ]
     },
     "metadata": {
      "needs_background": "light"
     },
     "output_type": "display_data"
    }
   ],
   "source": [
    "cf_XG = confusion_matrix(test_y, XG_prediction)\n",
    "cf_XG = sns.heatmap(cf_XG/np.sum(cf_XG), annot=True, fmt='.2%')\n",
    "\n",
    "cf_XG.set_title('XGBoost')\n",
    "cf_XG.set_xlabel('\\nPredicted Values')\n",
    "cf_XG.set_ylabel('Actual Values ')\n",
    "\n",
    "cf_XG.xaxis.set_ticklabels(['False','True'])\n",
    "cf_XG.yaxis.set_ticklabels(['False','True'])\n",
    "\n",
    "plt.show()"
   ]
  },
  {
   "cell_type": "code",
   "execution_count": 29,
   "metadata": {},
   "outputs": [
    {
     "data": {
      "text/plain": [
       "0.9110484728062475"
      ]
     },
     "execution_count": 29,
     "metadata": {},
     "output_type": "execute_result"
    }
   ],
   "source": [
    "accuracy_score(test_y, XG_prediction) "
   ]
  },
  {
   "cell_type": "markdown",
   "metadata": {},
   "source": [
    "KNN"
   ]
  },
  {
   "cell_type": "code",
   "execution_count": 30,
   "metadata": {},
   "outputs": [
    {
     "data": {
      "text/plain": [
       "KNeighborsClassifier(n_neighbors=1)"
      ]
     },
     "execution_count": 30,
     "metadata": {},
     "output_type": "execute_result"
    }
   ],
   "source": [
    "from sklearn.neighbors import KNeighborsClassifier \n",
    "KNN_model = KNeighborsClassifier(n_neighbors=1 )  \n",
    "KNN_model.fit(text_bow_train, train_y)  "
   ]
  },
  {
   "cell_type": "code",
   "execution_count": 31,
   "metadata": {},
   "outputs": [],
   "source": [
    "KNN_prediction = KNN_model.predict(text_bow_test)"
   ]
  },
  {
   "cell_type": "code",
   "execution_count": 32,
   "metadata": {},
   "outputs": [
    {
     "data": {
      "image/png": "[encoded data removed]",
      "text/plain": [
       "<Figure size 432x288 with 2 Axes>"
      ]
     },
     "metadata": {
      "needs_background": "light"
     },
     "output_type": "display_data"
    }
   ],
   "source": [
    "cf_KNN = confusion_matrix(test_y, KNN_prediction)\n",
    "cf_KNN = sns.heatmap(cf_KNN/np.sum(cf_KNN), annot=True, fmt='.2%')\n",
    "\n",
    "cf_KNN.set_title('KNNBoost')\n",
    "cf_KNN.set_xlabel('\\nPredicted Values')\n",
    "cf_KNN.set_ylabel('Actual Values ')\n",
    "\n",
    "cf_KNN.xaxis.set_ticklabels(['False','True'])\n",
    "cf_KNN.yaxis.set_ticklabels(['False','True'])\n",
    "\n",
    "plt.show()"
   ]
  },
  {
   "cell_type": "code",
   "execution_count": 33,
   "metadata": {},
   "outputs": [],
   "source": [
    "models = ['Random Forest','Naive Bayes','SVM','Decision Tree','XGBoost','KNN']\n",
    "accuracy = []\n",
    "\n",
    "accuracy.append(accuracy_score(test_y, random_forest_prediction))\n",
    "accuracy.append(accuracy_score(test_y, NB_prediction))\n",
    "accuracy.append(accuracy_score(test_y, SVM_prediction)) \n",
    "accuracy.append(accuracy_score(test_y, tree_prediction)) \n",
    "accuracy.append(accuracy_score(test_y, XG_prediction)) \n",
    "accuracy.append(accuracy_score(test_y, KNN_prediction)) "
   ]
  },
  {
   "cell_type": "code",
   "execution_count": 34,
   "metadata": {},
   "outputs": [
    {
     "name": "stdout",
     "output_type": "stream",
     "text": [
      "[0.9380804953560371, 0.9166397116584262, 0.9451504089459821, 0.9220461161683841, 0.9110484728062475, 0.6862437040802181]\n"
     ]
    }
   ],
   "source": [
    "print(accuracy)"
   ]
  },
  {
   "cell_type": "code",
   "execution_count": 35,
   "metadata": {},
   "outputs": [
    {
     "name": "stderr",
     "output_type": "stream",
     "text": [
      "/Users/aviral/miniforge3/envs/tensorflow/lib/python3.9/site-packages/seaborn/_decorators.py:36: FutureWarning: Pass the following variables as keyword args: x, y. From version 0.12, the only valid positional argument will be `data`, and passing other arguments without an explicit keyword will result in an error or misinterpretation.\n",
      "  warnings.warn(\n"
     ]
    },
    {
     "data": {
      "image/png": "[encoded data removed]",
      "text/plain": [
       "<Figure size 648x216 with 1 Axes>"
      ]
     },
     "metadata": {
      "needs_background": "light"
     },
     "output_type": "display_data"
    }
   ],
   "source": [
    "plt.figure(figsize=(9, 3))\n",
    "sns.lineplot(models,accuracy)\n",
    "plt.xlabel('Models')\n",
    "plt.ylabel(\"Accuracy\")\n",
    "plt.title('Bar Plot of models accuracy')\n",
    "plt.show()"
   ]
  },
  {
   "cell_type": "code",
   "execution_count": 36,
   "metadata": {},
   "outputs": [
    {
     "name": "stderr",
     "output_type": "stream",
     "text": [
      "/Users/aviral/miniforge3/envs/tensorflow/lib/python3.9/site-packages/seaborn/_decorators.py:36: FutureWarning: Pass the following variables as keyword args: x, y. From version 0.12, the only valid positional argument will be `data`, and passing other arguments without an explicit keyword will result in an error or misinterpretation.\n",
      "  warnings.warn(\n"
     ]
    },
    {
     "data": {
      "image/png": "[encoded data removed]",
      "text/plain": [
       "<Figure size 1080x360 with 1 Axes>"
      ]
     },
     "metadata": {
      "needs_background": "light"
     },
     "output_type": "display_data"
    }
   ],
   "source": [
    "plt.figure(figsize=(15, 5))\n",
    "sns.barplot(models,accuracy)\n",
    "plt.xlabel('Models')\n",
    "plt.ylabel(\"Accuracy\")\n",
    "plt.title('Bar Plot of models accuracy')\n",
    "plt.show()"
   ]
  },
  {
   "cell_type": "code",
   "execution_count": 37,
   "metadata": {},
   "outputs": [
    {
     "data": {
      "text/plain": [
       "\"import tensorflow as tf\\n\\nvocab_size = 500\\nembedding_dim = 16\\nmax_length = 50\\n\\nmodel = tf.keras.Sequential([\\n    tf.keras.layers.Embedding(vocab_size, embedding_dim, input_length=max_length),\\n    tf.keras.layers.GlobalAveragePooling1D(),\\n    tf.keras.layers.Dense(6, activation='relu'),\\n    tf.keras.layers.Dense(1, activation='sigmoid')\\n])\\nmodel.compile(loss='binary_crossentropy',optimizer='adam',metrics=['accuracy'])\""
      ]
     },
     "execution_count": 37,
     "metadata": {},
     "output_type": "execute_result"
    }
   ],
   "source": [
    "'''import tensorflow as tf\n",
    "\n",
    "vocab_size = 500\n",
    "embedding_dim = 16\n",
    "max_length = 50\n",
    "\n",
    "model = tf.keras.Sequential([\n",
    "    tf.keras.layers.Embedding(vocab_size, embedding_dim, input_length=max_length),\n",
    "    tf.keras.layers.GlobalAveragePooling1D(),\n",
    "    tf.keras.layers.Dense(6, activation='relu'),\n",
    "    tf.keras.layers.Dense(1, activation='sigmoid')\n",
    "])\n",
    "model.compile(loss='binary_crossentropy',optimizer='adam',metrics=['accuracy'])'''"
   ]
  },
  {
   "cell_type": "code",
   "execution_count": 38,
   "metadata": {},
   "outputs": [
    {
     "name": "stdout",
     "output_type": "stream",
     "text": [
      "0.9280070237050044\n"
     ]
    }
   ],
   "source": [
    "from sklearn.svm import NuSVC\n",
    "model1 = NuSVC()  \n",
    "model1.fit(text_bow_train, train_y)  \n",
    "\n",
    "model1 = model1.predict(text_bow_test)\n",
    "\n",
    "print(accuracy_score(test_y, model1))"
   ]
  },
  {
   "cell_type": "code",
   "execution_count": 46,
   "metadata": {},
   "outputs": [
    {
     "name": "stdout",
     "output_type": "stream",
     "text": [
      "0.8246846264035858\n"
     ]
    }
   ],
   "source": [
    "from sklearn.ensemble import AdaBoostClassifier\n",
    "\n",
    "model4 = AdaBoostClassifier()  \n",
    "model4.fit(text_bow_train, train_y)  \n",
    "\n",
    "model4 = model4.predict(text_bow_test)\n",
    "\n",
    "print(accuracy_score(test_y, model4))"
   ]
  },
  {
   "cell_type": "code",
   "execution_count": 45,
   "metadata": {},
   "outputs": [
    {
     "name": "stdout",
     "output_type": "stream",
     "text": [
      "0.9426551453260016\n"
     ]
    }
   ],
   "source": [
    "from sklearn.ensemble import ExtraTreesClassifier\n",
    "\n",
    "model5 = ExtraTreesClassifier()  \n",
    "model5.fit(text_bow_train, train_y)  \n",
    "\n",
    "model5 = model5.predict(text_bow_test)\n",
    "\n",
    "print(accuracy_score(test_y, model5))"
   ]
  },
  {
   "cell_type": "code",
   "execution_count": 44,
   "metadata": {},
   "outputs": [
    {
     "name": "stdout",
     "output_type": "stream",
     "text": [
      "0.904117184972968\n"
     ]
    }
   ],
   "source": [
    "from sklearn.naive_bayes import BernoulliNB\n",
    "\n",
    "model6 = BernoulliNB()  \n",
    "model6.fit(text_bow_train, train_y)  \n",
    "\n",
    "model6 = model6.predict(text_bow_test)\n",
    "\n",
    "print(accuracy_score(test_y, model6))"
   ]
  },
  {
   "cell_type": "code",
   "execution_count": 43,
   "metadata": {},
   "outputs": [
    {
     "name": "stdout",
     "output_type": "stream",
     "text": [
      "0.9412688877593457\n"
     ]
    }
   ],
   "source": [
    "from sklearn.linear_model import SGDClassifier\n",
    "\n",
    "model7 = SGDClassifier()  \n",
    "model7.fit(text_bow_train, train_y)  \n",
    "\n",
    "model7 = model7.predict(text_bow_test)\n",
    "\n",
    "print(accuracy_score(test_y, model7))"
   ]
  },
  {
   "cell_type": "code",
   "execution_count": 41,
   "metadata": {},
   "outputs": [
    {
     "name": "stdout",
     "output_type": "stream",
     "text": [
      "0.9370176978882676\n"
     ]
    }
   ],
   "source": [
    "from sklearn.linear_model import RidgeClassifier\n",
    "\n",
    "model9 = RidgeClassifier()  \n",
    "model9.fit(text_bow_train, train_y)  \n",
    "\n",
    "model9 = model9.predict(text_bow_test)\n",
    "\n",
    "print(accuracy_score(test_y, model9))"
   ]
  },
  {
   "cell_type": "code",
   "execution_count": 40,
   "metadata": {},
   "outputs": [
    {
     "name": "stdout",
     "output_type": "stream",
     "text": [
      "0.9326740908460792\n"
     ]
    }
   ],
   "source": [
    "from sklearn.linear_model import Perceptron\n",
    "\n",
    "model10 = Perceptron()  \n",
    "model10.fit(text_bow_train, train_y)  \n",
    "\n",
    "model10 = model10.predict(text_bow_test)\n",
    "\n",
    "print(accuracy_score(test_y, model10))"
   ]
  }
 ],
 "metadata": {
  "kernelspec": {
   "display_name": "tensorflow",
   "language": "python",
   "name": "python3"
  },
  "language_info": {
   "codemirror_mode": {
    "name": "ipython",
    "version": 3
   },
   "file_extension": ".py",
   "mimetype": "text/x-python",
   "name": "python",
   "nbconvert_exporter": "python",
   "pygments_lexer": "ipython3",
   "version": "3.9.12"
  },
  "orig_nbformat": 4
 },
 "nbformat": 4,
 "nbformat_minor": 2
}
